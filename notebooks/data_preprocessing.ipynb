{
 "cells": [
  {
   "cell_type": "code",
   "execution_count": 1,
   "metadata": {},
   "outputs": [],
   "source": [
    "import os\n",
    "import cv2 as cv\n",
    "\n",
    "images_path = r'.\\data\\png_images'\n",
    "masks_path = r'.\\data\\png_masks'\n",
    "processed_path = r'.\\data\\processed'"
   ]
  },
  {
   "cell_type": "code",
   "execution_count": 2,
   "metadata": {},
   "outputs": [],
   "source": [
    "def resize_image(image, width=512, height=512):\n",
    "    return cv.resize(image, (width, height))\n",
    "\n",
    "def convert_to_grayscale(image):\n",
    "    if len(image.shape) == 3 and image.shape[2] == 3:\n",
    "        return cv.cvtColor(image, cv.COLOR_BGR2GRAY)\n",
    "    return image\n",
    "\n",
    "def normalize_image(image):\n",
    "    return cv.normalize(image, None, 0, 255, cv.NORM_MINMAX)"
   ]
  },
  {
   "cell_type": "code",
   "execution_count": 3,
   "metadata": {},
   "outputs": [],
   "source": [
    "for file in os.listdir(images_path):\n",
    "    file_path = os.path.join(images_path, file)\n",
    "    image = cv.imread(file_path)\n",
    "    \n",
    "    if image is None:\n",
    "        print(f\"Warning: Unable to read image {file_path}. Skipping...\")\n",
    "        continue\n",
    "    \n",
    "    # Chia tên file để lấy id và nhãn\n",
    "    file_parts = file.split('_')\n",
    "    if len(file_parts) < 3:\n",
    "        print(f\"Warning: Invalid filename format {file}. Skipping...\")\n",
    "        continue\n",
    "    \n",
    "    i = file_parts[0]  # ID\n",
    "    j = file_parts[2]  # Nhãn (0 hoặc 1)\n",
    "    \n",
    "    # Xác định thư mục lưu trữ dựa trên nhãn\n",
    "    label_folder = 'has_pneumo' if j == '1' else 'normal'\n",
    "    \n",
    "    # Xác định kiểu dữ liệu là train hay test từ tên file\n",
    "    data_type = 'train' if 'train' in file else 'test'\n",
    "    \n",
    "    # Tạo đường dẫn cho thư mục đã xử lý\n",
    "    images_output_path = os.path.join(processed_path, 'images', label_folder, data_type)\n",
    "    masks_output_path = os.path.join(processed_path, 'mask', label_folder, data_type)\n",
    "    \n",
    "    # Tạo các thư mục nếu chưa tồn tại\n",
    "    os.makedirs(images_output_path, exist_ok=True)\n",
    "    os.makedirs(masks_output_path, exist_ok=True)\n",
    "    \n",
    "    # Resize và chuẩn hóa ảnh\n",
    "    resized_image = resize_image(image)\n",
    "    normalized_image = normalize_image(convert_to_grayscale(resized_image))\n",
    "    \n",
    "    # Lưu ảnh đã xử lý vào thư mục tương ứng\n",
    "    aug_file_name = f\"{i}_train_{j}.png\" if 'train' in file else f\"{i}_test_{j}.png\"\n",
    "    cv.imwrite(os.path.join(images_output_path, aug_file_name), normalized_image)\n",
    "    \n",
    "    # Lưu mask nếu có\n",
    "    mask_file_path = os.path.join(masks_path, file)  # Đường dẫn đến mask tương ứng\n",
    "    mask_image = cv.imread(mask_file_path)\n",
    "    \n",
    "    if mask_image is not None:\n",
    "        resized_mask = resize_image(mask_image)\n",
    "        normalized_mask = normalize_image(resized_mask)\n",
    "        cv.imwrite(os.path.join(masks_output_path, aug_file_name), normalized_mask)\n",
    "    else:\n",
    "        print(f\"Warning: Unable to read mask for {file_path}. Skipping...\")"
   ]
  }
 ],
 "metadata": {
  "kernelspec": {
   "display_name": "Python 3",
   "language": "python",
   "name": "python3"
  },
  "language_info": {
   "codemirror_mode": {
    "name": "ipython",
    "version": 3
   },
   "file_extension": ".py",
   "mimetype": "text/x-python",
   "name": "python",
   "nbconvert_exporter": "python",
   "pygments_lexer": "ipython3",
   "version": "3.10.11"
  }
 },
 "nbformat": 4,
 "nbformat_minor": 2
}
