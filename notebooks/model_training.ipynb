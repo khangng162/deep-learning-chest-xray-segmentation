{
 "cells": [
  {
   "cell_type": "code",
   "execution_count": null,
   "metadata": {},
   "outputs": [],
   "source": [
    "import csv\n",
    "import os\n",
    "import sys\n",
    "import time\n",
    "\n",
    "import tensorflow as tf\n",
    "from tensorflow.keras.callbacks import (EarlyStopping, LambdaCallback,\n",
    "                                        ModelCheckpoint, ReduceLROnPlateau)\n",
    "from tensorflow.keras.mixed_precision import Policy, set_global_policy\n",
    "from tensorflow.keras.models import load_model\n",
    "\n",
    "policy = Policy('mixed_float16')\n",
    "set_global_policy(policy)\n",
    "tf.keras.mixed_precision.set_global_policy('float32')  # Sử dụng float32 cho tất cả\n",
    "\n",
    "path_to_add = os.path.abspath(os.path.join('..', 'src'))\n",
    "if path_to_add in sys.path:\n",
    "    sys.path.remove(path_to_add)\n",
    "sys.path.append(path_to_add)\n",
    "\n",
    "from models.fcn import fcn_model\n",
    "from models.unet import unet_model\n",
    "from models.segnet import segnet_model\n",
    "from models.unetpp import unetpp_model\n",
    "from utils.data_loader import create_dataset\n",
    "from utils.metrics import dice_loss, iou_metric"
   ]
  },
  {
   "cell_type": "code",
   "execution_count": null,
   "metadata": {},
   "outputs": [],
   "source": [
    "# Thiết lập chế độ eager execution\n",
    "tf.config.run_functions_eagerly(True)\n",
    "\n",
    "# Thiết lập tham số\n",
    "batch_size = 1  # Kích thước batch\n",
    "images_path = r'.\\data\\processed\\images'\n",
    "masks_path = r'.\\data\\processed\\mask'\n",
    "loss = tf.keras.losses.BinaryCrossentropy()\n",
    "\n",
    "# Nhập số lượng mẫu\n",
    "num_samples = 4758\n",
    "generator = create_dataset(images_path, masks_path, batch_size=batch_size, num_samples=num_samples, data_ratio=50).repeat()\n",
    "\n",
    "# Đường dẫn lưu mô hình và log\n",
    "model_save_path = r\".\\experiments\\fcn_experiment\\lr1e_5.keras\"\n",
    "log_file_path = r\".\\logs\\fcn\\lr1e_5.csv\"\n",
    "\n",
    "steps_per_epoch = num_samples // batch_size\n",
    "\n",
    "if os.path.exists(model_save_path):\n",
    "    try:\n",
    "        model = load_model(model_save_path, custom_objects={'loss': dice_loss, 'iou_metric': iou_metric})\n",
    "        initial_epoch = model.optimizer.iterations.numpy() // steps_per_epoch\n",
    "        print(\"Mô hình đã được tải thành công từ:\", model_save_path)\n",
    "    except Exception as e:\n",
    "        print(\"Lỗi khi tải mô hình:\", e)\n",
    "        model = fcn_model((512, 512, 1))\n",
    "        initial_epoch = 0\n",
    "else:\n",
    "    model = fcn_model((512, 512, 1))\n",
    "    initial_epoch = 0"
   ]
  },
  {
   "cell_type": "code",
   "execution_count": 3,
   "metadata": {},
   "outputs": [],
   "source": [
    "optimizer = tf.keras.optimizers.Adam(learning_rate=1e-5, clipnorm=1.0)\n",
    "model.compile(optimizer=optimizer, loss=dice_loss, metrics=['accuracy', iou_metric])\n",
    "\n",
    "# Các callback để theo dõi quá trình huấn luyện\n",
    "early_stopping = EarlyStopping(monitor='loss', patience=3, restore_best_weights=True)\n",
    "checkpoint = ModelCheckpoint(model_save_path, monitor='loss', save_best_only=True, mode='min', verbose=2)\n",
    "reduce_lr = ReduceLROnPlateau(monitor='loss', factor=0.5, patience=2, min_lr=1e-6, verbose=1)"
   ]
  },
  {
   "cell_type": "code",
   "execution_count": null,
   "metadata": {},
   "outputs": [],
   "source": [
    "if not os.path.exists(log_file_path):\n",
    "    with open(log_file_path, \"w\", newline=\"\") as f:\n",
    "        writer = csv.writer(f)\n",
    "        writer.writerow([\"epoch\", \"loss\", \"accuracy\", \"iou_metric\", \"learning_rate\", \"epoch_time\"])\n",
    "\n",
    "# Hàm callback để ghi log sau mỗi epoch\n",
    "def on_epoch_begin(epoch, logs):\n",
    "    global epoch_start_time\n",
    "    epoch_start_time = time.time()  # Ghi lại thời gian bắt đầu của mỗi epoch\n",
    "\n",
    "def on_epoch_end(epoch, logs):\n",
    "    epoch_time = time.time() - epoch_start_time  # Tính toán thời gian hoàn thành của epoch\n",
    "    current_lr = model.optimizer.learning_rate.numpy()\n",
    "    with open(log_file_path, \"a\", newline=\"\") as f:\n",
    "        writer = csv.writer(f)\n",
    "        writer.writerow([\n",
    "            epoch + 1,\n",
    "            logs.get(\"loss\", None),\n",
    "            logs.get(\"accuracy\", None),\n",
    "            logs.get(\"iou_metric\", None),\n",
    "            current_lr,\n",
    "            epoch_time\n",
    "        ])\n",
    "\n",
    "log_callback = LambdaCallback(on_epoch_begin=on_epoch_begin, on_epoch_end=on_epoch_end)\n",
    "\n",
    "# Danh sách callbacks\n",
    "callbacks = [checkpoint, early_stopping, reduce_lr, log_callback]\n",
    "\n",
    "# Huấn luyện mô hình\n",
    "model.fit(\n",
    "    generator,\n",
    "    steps_per_epoch=steps_per_epoch,\n",
    "    epochs=50,\n",
    "    callbacks=callbacks,\n",
    "    initial_epoch=initial_epoch\n",
    ")"
   ]
  },
  {
   "cell_type": "code",
   "execution_count": null,
   "metadata": {},
   "outputs": [],
   "source": [
    "os.system(\"shutdown /s /t 1\")"
   ]
  }
 ],
 "metadata": {
  "kernelspec": {
   "display_name": "py310",
   "language": "python",
   "name": "python3"
  },
  "language_info": {
   "codemirror_mode": {
    "name": "ipython",
    "version": 3
   },
   "file_extension": ".py",
   "mimetype": "text/x-python",
   "name": "python",
   "nbconvert_exporter": "python",
   "pygments_lexer": "ipython3",
   "version": "3.10.15"
  }
 },
 "nbformat": 4,
 "nbformat_minor": 2
}
